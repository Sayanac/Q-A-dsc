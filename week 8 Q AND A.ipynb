{
 "cells": [
  {
   "cell_type": "markdown",
   "id": "7981d03e",
   "metadata": {},
   "source": [
    "# Reading the dataset to python environment "
   ]
  },
  {
   "cell_type": "code",
   "execution_count": null,
   "id": "d55440ad",
   "metadata": {},
   "outputs": [],
   "source": [
    "import pandas as pd\n",
    "data=pd.read_csv('Advertising.csv')"
   ]
  },
  {
   "cell_type": "markdown",
   "id": "373368ed",
   "metadata": {},
   "source": [
    "# 1. Explain the dataset"
   ]
  },
  {
   "cell_type": "code",
   "execution_count": 5,
   "id": "98dd9006",
   "metadata": {},
   "outputs": [
    {
     "data": {
      "text/html": [
       "<div>\n",
       "<style scoped>\n",
       "    .dataframe tbody tr th:only-of-type {\n",
       "        vertical-align: middle;\n",
       "    }\n",
       "\n",
       "    .dataframe tbody tr th {\n",
       "        vertical-align: top;\n",
       "    }\n",
       "\n",
       "    .dataframe thead th {\n",
       "        text-align: right;\n",
       "    }\n",
       "</style>\n",
       "<table border=\"1\" class=\"dataframe\">\n",
       "  <thead>\n",
       "    <tr style=\"text-align: right;\">\n",
       "      <th></th>\n",
       "      <th>Unnamed: 0</th>\n",
       "      <th>TV</th>\n",
       "      <th>Radio</th>\n",
       "      <th>Newspaper</th>\n",
       "      <th>Sales</th>\n",
       "    </tr>\n",
       "  </thead>\n",
       "  <tbody>\n",
       "    <tr>\n",
       "      <th>0</th>\n",
       "      <td>1</td>\n",
       "      <td>230.1</td>\n",
       "      <td>37.8</td>\n",
       "      <td>69.2</td>\n",
       "      <td>22.1</td>\n",
       "    </tr>\n",
       "    <tr>\n",
       "      <th>1</th>\n",
       "      <td>2</td>\n",
       "      <td>44.5</td>\n",
       "      <td>39.3</td>\n",
       "      <td>45.1</td>\n",
       "      <td>10.4</td>\n",
       "    </tr>\n",
       "    <tr>\n",
       "      <th>2</th>\n",
       "      <td>3</td>\n",
       "      <td>17.2</td>\n",
       "      <td>45.9</td>\n",
       "      <td>69.3</td>\n",
       "      <td>9.3</td>\n",
       "    </tr>\n",
       "    <tr>\n",
       "      <th>3</th>\n",
       "      <td>4</td>\n",
       "      <td>151.5</td>\n",
       "      <td>41.3</td>\n",
       "      <td>58.5</td>\n",
       "      <td>18.5</td>\n",
       "    </tr>\n",
       "    <tr>\n",
       "      <th>4</th>\n",
       "      <td>5</td>\n",
       "      <td>180.8</td>\n",
       "      <td>10.8</td>\n",
       "      <td>58.4</td>\n",
       "      <td>12.9</td>\n",
       "    </tr>\n",
       "    <tr>\n",
       "      <th>...</th>\n",
       "      <td>...</td>\n",
       "      <td>...</td>\n",
       "      <td>...</td>\n",
       "      <td>...</td>\n",
       "      <td>...</td>\n",
       "    </tr>\n",
       "    <tr>\n",
       "      <th>195</th>\n",
       "      <td>196</td>\n",
       "      <td>38.2</td>\n",
       "      <td>3.7</td>\n",
       "      <td>13.8</td>\n",
       "      <td>7.6</td>\n",
       "    </tr>\n",
       "    <tr>\n",
       "      <th>196</th>\n",
       "      <td>197</td>\n",
       "      <td>94.2</td>\n",
       "      <td>4.9</td>\n",
       "      <td>8.1</td>\n",
       "      <td>9.7</td>\n",
       "    </tr>\n",
       "    <tr>\n",
       "      <th>197</th>\n",
       "      <td>198</td>\n",
       "      <td>177.0</td>\n",
       "      <td>9.3</td>\n",
       "      <td>6.4</td>\n",
       "      <td>12.8</td>\n",
       "    </tr>\n",
       "    <tr>\n",
       "      <th>198</th>\n",
       "      <td>199</td>\n",
       "      <td>283.6</td>\n",
       "      <td>42.0</td>\n",
       "      <td>66.2</td>\n",
       "      <td>25.5</td>\n",
       "    </tr>\n",
       "    <tr>\n",
       "      <th>199</th>\n",
       "      <td>200</td>\n",
       "      <td>232.1</td>\n",
       "      <td>8.6</td>\n",
       "      <td>8.7</td>\n",
       "      <td>13.4</td>\n",
       "    </tr>\n",
       "  </tbody>\n",
       "</table>\n",
       "<p>200 rows × 5 columns</p>\n",
       "</div>"
      ],
      "text/plain": [
       "     Unnamed: 0     TV  Radio  Newspaper  Sales\n",
       "0             1  230.1   37.8       69.2   22.1\n",
       "1             2   44.5   39.3       45.1   10.4\n",
       "2             3   17.2   45.9       69.3    9.3\n",
       "3             4  151.5   41.3       58.5   18.5\n",
       "4             5  180.8   10.8       58.4   12.9\n",
       "..          ...    ...    ...        ...    ...\n",
       "195         196   38.2    3.7       13.8    7.6\n",
       "196         197   94.2    4.9        8.1    9.7\n",
       "197         198  177.0    9.3        6.4   12.8\n",
       "198         199  283.6   42.0       66.2   25.5\n",
       "199         200  232.1    8.6        8.7   13.4\n",
       "\n",
       "[200 rows x 5 columns]"
      ]
     },
     "execution_count": 5,
     "metadata": {},
     "output_type": "execute_result"
    }
   ],
   "source": [
    "data"
   ]
  },
  {
   "cell_type": "code",
   "execution_count": 6,
   "id": "91e079c4",
   "metadata": {},
   "outputs": [
    {
     "name": "stdout",
     "output_type": "stream",
     "text": [
      "<class 'pandas.core.frame.DataFrame'>\n",
      "RangeIndex: 200 entries, 0 to 199\n",
      "Data columns (total 5 columns):\n",
      " #   Column      Non-Null Count  Dtype  \n",
      "---  ------      --------------  -----  \n",
      " 0   Unnamed: 0  200 non-null    int64  \n",
      " 1   TV          200 non-null    float64\n",
      " 2   Radio       200 non-null    float64\n",
      " 3   Newspaper   200 non-null    float64\n",
      " 4   Sales       200 non-null    float64\n",
      "dtypes: float64(4), int64(1)\n",
      "memory usage: 7.9 KB\n"
     ]
    }
   ],
   "source": [
    "data.info()"
   ]
  },
  {
   "cell_type": "markdown",
   "id": "cde06bf0",
   "metadata": {},
   "source": [
    "As per above the data is having an unnamed column which is actually serial no of each row and need to be dropped. There are a total of 200 samples. The data is about advertising done through different media and the sales achieved."
   ]
  },
  {
   "cell_type": "code",
   "execution_count": 7,
   "id": "cab720a0",
   "metadata": {},
   "outputs": [
    {
     "data": {
      "text/plain": [
       "Unnamed: 0    0\n",
       "TV            0\n",
       "Radio         0\n",
       "Newspaper     0\n",
       "Sales         0\n",
       "dtype: int64"
      ]
     },
     "execution_count": 7,
     "metadata": {},
     "output_type": "execute_result"
    }
   ],
   "source": [
    "data.isna().sum()"
   ]
  },
  {
   "cell_type": "markdown",
   "id": "695f2955",
   "metadata": {},
   "source": [
    "There is no invalid data in the columns and no null values too\n",
    "\n"
   ]
  },
  {
   "cell_type": "markdown",
   "id": "adcb8f1d",
   "metadata": {},
   "source": [
    "# 2. Check the summary statistics and discuss the max, min, avg, median, and percentiles"
   ]
  },
  {
   "cell_type": "code",
   "execution_count": 9,
   "id": "22ceac6d",
   "metadata": {},
   "outputs": [
    {
     "data": {
      "text/html": [
       "<div>\n",
       "<style scoped>\n",
       "    .dataframe tbody tr th:only-of-type {\n",
       "        vertical-align: middle;\n",
       "    }\n",
       "\n",
       "    .dataframe tbody tr th {\n",
       "        vertical-align: top;\n",
       "    }\n",
       "\n",
       "    .dataframe thead th {\n",
       "        text-align: right;\n",
       "    }\n",
       "</style>\n",
       "<table border=\"1\" class=\"dataframe\">\n",
       "  <thead>\n",
       "    <tr style=\"text-align: right;\">\n",
       "      <th></th>\n",
       "      <th>TV</th>\n",
       "      <th>Radio</th>\n",
       "      <th>Newspaper</th>\n",
       "      <th>Sales</th>\n",
       "    </tr>\n",
       "  </thead>\n",
       "  <tbody>\n",
       "    <tr>\n",
       "      <th>count</th>\n",
       "      <td>200.000000</td>\n",
       "      <td>200.000000</td>\n",
       "      <td>200.000000</td>\n",
       "      <td>200.000000</td>\n",
       "    </tr>\n",
       "    <tr>\n",
       "      <th>mean</th>\n",
       "      <td>147.042500</td>\n",
       "      <td>23.264000</td>\n",
       "      <td>30.554000</td>\n",
       "      <td>14.022500</td>\n",
       "    </tr>\n",
       "    <tr>\n",
       "      <th>std</th>\n",
       "      <td>85.854236</td>\n",
       "      <td>14.846809</td>\n",
       "      <td>21.778621</td>\n",
       "      <td>5.217457</td>\n",
       "    </tr>\n",
       "    <tr>\n",
       "      <th>min</th>\n",
       "      <td>0.700000</td>\n",
       "      <td>0.000000</td>\n",
       "      <td>0.300000</td>\n",
       "      <td>1.600000</td>\n",
       "    </tr>\n",
       "    <tr>\n",
       "      <th>25%</th>\n",
       "      <td>74.375000</td>\n",
       "      <td>9.975000</td>\n",
       "      <td>12.750000</td>\n",
       "      <td>10.375000</td>\n",
       "    </tr>\n",
       "    <tr>\n",
       "      <th>50%</th>\n",
       "      <td>149.750000</td>\n",
       "      <td>22.900000</td>\n",
       "      <td>25.750000</td>\n",
       "      <td>12.900000</td>\n",
       "    </tr>\n",
       "    <tr>\n",
       "      <th>75%</th>\n",
       "      <td>218.825000</td>\n",
       "      <td>36.525000</td>\n",
       "      <td>45.100000</td>\n",
       "      <td>17.400000</td>\n",
       "    </tr>\n",
       "    <tr>\n",
       "      <th>max</th>\n",
       "      <td>296.400000</td>\n",
       "      <td>49.600000</td>\n",
       "      <td>114.000000</td>\n",
       "      <td>27.000000</td>\n",
       "    </tr>\n",
       "  </tbody>\n",
       "</table>\n",
       "</div>"
      ],
      "text/plain": [
       "               TV       Radio   Newspaper       Sales\n",
       "count  200.000000  200.000000  200.000000  200.000000\n",
       "mean   147.042500   23.264000   30.554000   14.022500\n",
       "std     85.854236   14.846809   21.778621    5.217457\n",
       "min      0.700000    0.000000    0.300000    1.600000\n",
       "25%     74.375000    9.975000   12.750000   10.375000\n",
       "50%    149.750000   22.900000   25.750000   12.900000\n",
       "75%    218.825000   36.525000   45.100000   17.400000\n",
       "max    296.400000   49.600000  114.000000   27.000000"
      ]
     },
     "execution_count": 9,
     "metadata": {},
     "output_type": "execute_result"
    }
   ],
   "source": [
    "data.describe(exclude=[int])"
   ]
  },
  {
   "cell_type": "markdown",
   "id": "836a9617",
   "metadata": {},
   "source": [
    "# a)Minimum values of data"
   ]
  },
  {
   "cell_type": "code",
   "execution_count": 19,
   "id": "f8ea7ff2",
   "metadata": {},
   "outputs": [
    {
     "name": "stdout",
     "output_type": "stream",
     "text": [
      "Unnamed: 0    1.0\n",
      "TV            0.7\n",
      "Radio         0.0\n",
      "Newspaper     0.3\n",
      "Sales         1.6\n",
      "dtype: float64\n"
     ]
    }
   ],
   "source": [
    "import numpy as np\n",
    "minimum = np.min(data)\n",
    "print(minimum)"
   ]
  },
  {
   "cell_type": "markdown",
   "id": "9b3b23df",
   "metadata": {},
   "source": [
    "In the Tv column ,minimum value is 0.70 ; for Radio column,minimum value is 0; for Newspaper column,minimum value is 0.30 and for sales column minimum value is 1.60 Comparing minimum advertisement expenditure across columns,Radio comes first(lowest spending), News paper comes second and TV comes third.\n",
    "\n"
   ]
  },
  {
   "cell_type": "markdown",
   "id": "ec80804e",
   "metadata": {},
   "source": [
    "# b)Maximum values of data"
   ]
  },
  {
   "cell_type": "code",
   "execution_count": 12,
   "id": "4aba403c",
   "metadata": {},
   "outputs": [
    {
     "name": "stdout",
     "output_type": "stream",
     "text": [
      "Unnamed: 0    200.0\n",
      "TV            296.4\n",
      "Radio          49.6\n",
      "Newspaper     114.0\n",
      "Sales          27.0\n",
      "dtype: float64\n"
     ]
    }
   ],
   "source": [
    "maximum = np.max(data)\n",
    "print(maximum)"
   ]
  },
  {
   "cell_type": "markdown",
   "id": "76924c98",
   "metadata": {},
   "source": [
    "Advertisement in TV has maximum spending in one instance"
   ]
  },
  {
   "cell_type": "markdown",
   "id": "aad53fdc",
   "metadata": {},
   "source": [
    "# c)Average values of data"
   ]
  },
  {
   "cell_type": "code",
   "execution_count": 13,
   "id": "5f5d5e2e",
   "metadata": {},
   "outputs": [
    {
     "data": {
      "text/plain": [
       "Unnamed: 0    100.5000\n",
       "TV            147.0425\n",
       "Radio          23.2640\n",
       "Newspaper      30.5540\n",
       "Sales          14.0225\n",
       "dtype: float64"
      ]
     },
     "execution_count": 13,
     "metadata": {},
     "output_type": "execute_result"
    }
   ],
   "source": [
    "data.mean()"
   ]
  },
  {
   "cell_type": "markdown",
   "id": "66e22713",
   "metadata": {},
   "source": [
    "Average value in the TV column is ≈147.04,average value in the Radio column is ≈23.26,average value in the Newspaper column is ≈30.55 and average value in the sales column is ≈14.02 Comparing mean advertisement expenditure across columns,Tv occupies first position, Newspaper occupies second position and Radio third position."
   ]
  },
  {
   "cell_type": "markdown",
   "id": "9d130145",
   "metadata": {},
   "source": [
    "# d)Median values of data"
   ]
  },
  {
   "cell_type": "code",
   "execution_count": 14,
   "id": "9d9881ca",
   "metadata": {},
   "outputs": [
    {
     "data": {
      "text/plain": [
       "Unnamed: 0    100.50\n",
       "TV            149.75\n",
       "Radio          22.90\n",
       "Newspaper      25.75\n",
       "Sales          12.90\n",
       "dtype: float64"
      ]
     },
     "execution_count": 14,
     "metadata": {},
     "output_type": "execute_result"
    }
   ],
   "source": [
    "data.median()"
   ]
  },
  {
   "cell_type": "markdown",
   "id": "e88e38ce",
   "metadata": {},
   "source": [
    "Advertisement in TV has larger spendings compared to other media"
   ]
  },
  {
   "cell_type": "markdown",
   "id": "083d0938",
   "metadata": {},
   "source": [
    "# e)Percentiles values of data"
   ]
  },
  {
   "cell_type": "code",
   "execution_count": 20,
   "id": "9ae61165",
   "metadata": {},
   "outputs": [
    {
     "data": {
      "text/html": [
       "<div>\n",
       "<style scoped>\n",
       "    .dataframe tbody tr th:only-of-type {\n",
       "        vertical-align: middle;\n",
       "    }\n",
       "\n",
       "    .dataframe tbody tr th {\n",
       "        vertical-align: top;\n",
       "    }\n",
       "\n",
       "    .dataframe thead th {\n",
       "        text-align: right;\n",
       "    }\n",
       "</style>\n",
       "<table border=\"1\" class=\"dataframe\">\n",
       "  <thead>\n",
       "    <tr style=\"text-align: right;\">\n",
       "      <th></th>\n",
       "      <th>Unnamed: 0</th>\n",
       "      <th>TV</th>\n",
       "      <th>Radio</th>\n",
       "      <th>Newspaper</th>\n",
       "      <th>Sales</th>\n",
       "    </tr>\n",
       "  </thead>\n",
       "  <tbody>\n",
       "    <tr>\n",
       "      <th>0.25</th>\n",
       "      <td>50.75</td>\n",
       "      <td>74.375</td>\n",
       "      <td>9.975</td>\n",
       "      <td>12.75</td>\n",
       "      <td>10.375</td>\n",
       "    </tr>\n",
       "    <tr>\n",
       "      <th>0.50</th>\n",
       "      <td>100.50</td>\n",
       "      <td>149.750</td>\n",
       "      <td>22.900</td>\n",
       "      <td>25.75</td>\n",
       "      <td>12.900</td>\n",
       "    </tr>\n",
       "    <tr>\n",
       "      <th>0.75</th>\n",
       "      <td>150.25</td>\n",
       "      <td>218.825</td>\n",
       "      <td>36.525</td>\n",
       "      <td>45.10</td>\n",
       "      <td>17.400</td>\n",
       "    </tr>\n",
       "  </tbody>\n",
       "</table>\n",
       "</div>"
      ],
      "text/plain": [
       "      Unnamed: 0       TV   Radio  Newspaper   Sales\n",
       "0.25       50.75   74.375   9.975      12.75  10.375\n",
       "0.50      100.50  149.750  22.900      25.75  12.900\n",
       "0.75      150.25  218.825  36.525      45.10  17.400"
      ]
     },
     "execution_count": 20,
     "metadata": {},
     "output_type": "execute_result"
    }
   ],
   "source": [
    "data.quantile([.25,.5,.75])"
   ]
  },
  {
   "cell_type": "markdown",
   "id": "de4e7da8",
   "metadata": {},
   "source": [
    "Data shows that the spread of advertisement on TV is much wider than other medias"
   ]
  },
  {
   "cell_type": "markdown",
   "id": "be2eda39",
   "metadata": {},
   "source": [
    "# 3.The manager wants to find out whether the same amount was spent for the three advertisements (TV , Radio and Newspaper). Comment on your findings"
   ]
  },
  {
   "cell_type": "markdown",
   "id": "5c3e5e77",
   "metadata": {},
   "source": [
    "Manager wants to find whether same amount was spent for three advertisements. For that we need to check whether amount spent of all modes of adverisements are same or not using oneway Anova"
   ]
  },
  {
   "cell_type": "code",
   "execution_count": null,
   "id": "42c623ce",
   "metadata": {},
   "outputs": [],
   "source": [
    "# Hypothesis:"
   ]
  },
  {
   "cell_type": "markdown",
   "id": "d9875320",
   "metadata": {},
   "source": [
    "H0: Amount Spent on three Advertisements are same.,µ1=µ2=µ3\n",
    "H1: Amount spent on three advertisements are different,All μ are not equal"
   ]
  },
  {
   "cell_type": "code",
   "execution_count": null,
   "id": "31a40919",
   "metadata": {},
   "outputs": [],
   "source": [
    "#setting the significance level"
   ]
  },
  {
   "cell_type": "markdown",
   "id": "0c214621",
   "metadata": {},
   "source": [
    "Considering significance level(α)=0.05 or 5%\n"
   ]
  },
  {
   "cell_type": "code",
   "execution_count": null,
   "id": "65273412",
   "metadata": {},
   "outputs": [],
   "source": [
    "# Determining p value using one way anova (for comparing means from 3 groups)"
   ]
  },
  {
   "cell_type": "code",
   "execution_count": 26,
   "id": "1b443cf9",
   "metadata": {},
   "outputs": [
    {
     "data": {
      "text/plain": [
       "F_onewayResult(statistic=358.8514595342597, pvalue=4.552931539744962e-103)"
      ]
     },
     "execution_count": 26,
     "metadata": {},
     "output_type": "execute_result"
    }
   ],
   "source": [
    "import numpy as np\n",
    "from scipy.stats import f_oneway\n",
    "x=np.array(data['TV'])\n",
    "y=np.array(data['Radio'])\n",
    "z=np.array(data['Newspaper'])\n",
    "f_oneway(x,y,z)"
   ]
  },
  {
   "cell_type": "code",
   "execution_count": null,
   "id": "8ec7d170",
   "metadata": {},
   "outputs": [],
   "source": [
    "# comparing p value with significance level(0.05) "
   ]
  },
  {
   "cell_type": "markdown",
   "id": "b5ef8889",
   "metadata": {},
   "source": [
    "p value: 4.552931539744962e-103 ≈ 4.55 x 10^-103 < 0.05\n",
    "\n",
    "Rejecting the null hypothesis"
   ]
  },
  {
   "cell_type": "code",
   "execution_count": null,
   "id": "2ca224cf",
   "metadata": {},
   "outputs": [],
   "source": [
    "#Conclusion"
   ]
  },
  {
   "cell_type": "markdown",
   "id": "7b4aa420",
   "metadata": {},
   "source": [
    "Since p value is less than the selected significance level of 0.05 ,rejecting the null hypothesis which means that the amount spent for atleast one advertisement differs from the rest i.e, All μ are not equal"
   ]
  }
 ],
 "metadata": {
  "kernelspec": {
   "display_name": "Python 3 (ipykernel)",
   "language": "python",
   "name": "python3"
  },
  "language_info": {
   "codemirror_mode": {
    "name": "ipython",
    "version": 3
   },
   "file_extension": ".py",
   "mimetype": "text/x-python",
   "name": "python",
   "nbconvert_exporter": "python",
   "pygments_lexer": "ipython3",
   "version": "3.9.7"
  }
 },
 "nbformat": 4,
 "nbformat_minor": 5
}
