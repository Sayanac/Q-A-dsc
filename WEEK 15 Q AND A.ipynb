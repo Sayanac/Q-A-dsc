{
 "cells": [
  {
   "cell_type": "code",
   "execution_count": 1,
   "id": "6f4c14c0",
   "metadata": {},
   "outputs": [],
   "source": [
    "import numpy as np\n",
    "import pandas as pd\n",
    "import scipy.stats as stats"
   ]
  },
  {
   "cell_type": "markdown",
   "id": "395f6369",
   "metadata": {},
   "source": [
    "# 1) Loading the dataset into python environment"
   ]
  },
  {
   "cell_type": "code",
   "execution_count": 2,
   "id": "287b227f",
   "metadata": {},
   "outputs": [
    {
     "data": {
      "text/html": [
       "<div>\n",
       "<style scoped>\n",
       "    .dataframe tbody tr th:only-of-type {\n",
       "        vertical-align: middle;\n",
       "    }\n",
       "\n",
       "    .dataframe tbody tr th {\n",
       "        vertical-align: top;\n",
       "    }\n",
       "\n",
       "    .dataframe thead th {\n",
       "        text-align: right;\n",
       "    }\n",
       "</style>\n",
       "<table border=\"1\" class=\"dataframe\">\n",
       "  <thead>\n",
       "    <tr style=\"text-align: right;\">\n",
       "      <th></th>\n",
       "      <th>PassengerId</th>\n",
       "      <th>Survived</th>\n",
       "      <th>Pclass</th>\n",
       "      <th>Name</th>\n",
       "      <th>Sex</th>\n",
       "      <th>Age</th>\n",
       "      <th>SibSp</th>\n",
       "      <th>Parch</th>\n",
       "      <th>Ticket</th>\n",
       "      <th>Fare</th>\n",
       "      <th>Cabin</th>\n",
       "      <th>Embarked</th>\n",
       "    </tr>\n",
       "  </thead>\n",
       "  <tbody>\n",
       "    <tr>\n",
       "      <th>0</th>\n",
       "      <td>1</td>\n",
       "      <td>0</td>\n",
       "      <td>3</td>\n",
       "      <td>Braund, Mr. Owen Harris</td>\n",
       "      <td>male</td>\n",
       "      <td>22.0</td>\n",
       "      <td>1</td>\n",
       "      <td>0</td>\n",
       "      <td>A/5 21171</td>\n",
       "      <td>7.2500</td>\n",
       "      <td>NaN</td>\n",
       "      <td>S</td>\n",
       "    </tr>\n",
       "    <tr>\n",
       "      <th>1</th>\n",
       "      <td>2</td>\n",
       "      <td>1</td>\n",
       "      <td>1</td>\n",
       "      <td>Cumings, Mrs. John Bradley (Florence Briggs Th...</td>\n",
       "      <td>female</td>\n",
       "      <td>38.0</td>\n",
       "      <td>1</td>\n",
       "      <td>0</td>\n",
       "      <td>PC 17599</td>\n",
       "      <td>71.2833</td>\n",
       "      <td>C85</td>\n",
       "      <td>C</td>\n",
       "    </tr>\n",
       "    <tr>\n",
       "      <th>2</th>\n",
       "      <td>3</td>\n",
       "      <td>1</td>\n",
       "      <td>3</td>\n",
       "      <td>Heikkinen, Miss. Laina</td>\n",
       "      <td>female</td>\n",
       "      <td>26.0</td>\n",
       "      <td>0</td>\n",
       "      <td>0</td>\n",
       "      <td>STON/O2. 3101282</td>\n",
       "      <td>7.9250</td>\n",
       "      <td>NaN</td>\n",
       "      <td>S</td>\n",
       "    </tr>\n",
       "    <tr>\n",
       "      <th>3</th>\n",
       "      <td>4</td>\n",
       "      <td>1</td>\n",
       "      <td>1</td>\n",
       "      <td>Futrelle, Mrs. Jacques Heath (Lily May Peel)</td>\n",
       "      <td>female</td>\n",
       "      <td>35.0</td>\n",
       "      <td>1</td>\n",
       "      <td>0</td>\n",
       "      <td>113803</td>\n",
       "      <td>53.1000</td>\n",
       "      <td>C123</td>\n",
       "      <td>S</td>\n",
       "    </tr>\n",
       "    <tr>\n",
       "      <th>4</th>\n",
       "      <td>5</td>\n",
       "      <td>0</td>\n",
       "      <td>3</td>\n",
       "      <td>Allen, Mr. William Henry</td>\n",
       "      <td>male</td>\n",
       "      <td>35.0</td>\n",
       "      <td>0</td>\n",
       "      <td>0</td>\n",
       "      <td>373450</td>\n",
       "      <td>8.0500</td>\n",
       "      <td>NaN</td>\n",
       "      <td>S</td>\n",
       "    </tr>\n",
       "  </tbody>\n",
       "</table>\n",
       "</div>"
      ],
      "text/plain": [
       "   PassengerId  Survived  Pclass  \\\n",
       "0            1         0       3   \n",
       "1            2         1       1   \n",
       "2            3         1       3   \n",
       "3            4         1       1   \n",
       "4            5         0       3   \n",
       "\n",
       "                                                Name     Sex   Age  SibSp  \\\n",
       "0                            Braund, Mr. Owen Harris    male  22.0      1   \n",
       "1  Cumings, Mrs. John Bradley (Florence Briggs Th...  female  38.0      1   \n",
       "2                             Heikkinen, Miss. Laina  female  26.0      0   \n",
       "3       Futrelle, Mrs. Jacques Heath (Lily May Peel)  female  35.0      1   \n",
       "4                           Allen, Mr. William Henry    male  35.0      0   \n",
       "\n",
       "   Parch            Ticket     Fare Cabin Embarked  \n",
       "0      0         A/5 21171   7.2500   NaN        S  \n",
       "1      0          PC 17599  71.2833   C85        C  \n",
       "2      0  STON/O2. 3101282   7.9250   NaN        S  \n",
       "3      0            113803  53.1000  C123        S  \n",
       "4      0            373450   8.0500   NaN        S  "
      ]
     },
     "execution_count": 2,
     "metadata": {},
     "output_type": "execute_result"
    }
   ],
   "source": [
    "data = pd.read_csv(\"titanic_dataset.csv\")\n",
    "data.head()"
   ]
  },
  {
   "cell_type": "code",
   "execution_count": 3,
   "id": "240aff0d",
   "metadata": {},
   "outputs": [
    {
     "data": {
      "text/plain": [
       "Index(['PassengerId', 'Survived', 'Pclass', 'Name', 'Sex', 'Age', 'SibSp',\n",
       "       'Parch', 'Ticket', 'Fare', 'Cabin', 'Embarked'],\n",
       "      dtype='object')"
      ]
     },
     "execution_count": 3,
     "metadata": {},
     "output_type": "execute_result"
    }
   ],
   "source": [
    "data.columns"
   ]
  },
  {
   "cell_type": "code",
   "execution_count": 4,
   "id": "c567b57f",
   "metadata": {},
   "outputs": [
    {
     "data": {
      "text/plain": [
       "(891, 12)"
      ]
     },
     "execution_count": 4,
     "metadata": {},
     "output_type": "execute_result"
    }
   ],
   "source": [
    "data.shape"
   ]
  },
  {
   "cell_type": "code",
   "execution_count": 5,
   "id": "274710f5",
   "metadata": {},
   "outputs": [
    {
     "name": "stdout",
     "output_type": "stream",
     "text": [
      "<class 'pandas.core.frame.DataFrame'>\n",
      "RangeIndex: 891 entries, 0 to 890\n",
      "Data columns (total 12 columns):\n",
      " #   Column       Non-Null Count  Dtype  \n",
      "---  ------       --------------  -----  \n",
      " 0   PassengerId  891 non-null    int64  \n",
      " 1   Survived     891 non-null    int64  \n",
      " 2   Pclass       891 non-null    int64  \n",
      " 3   Name         891 non-null    object \n",
      " 4   Sex          891 non-null    object \n",
      " 5   Age          714 non-null    float64\n",
      " 6   SibSp        891 non-null    int64  \n",
      " 7   Parch        891 non-null    int64  \n",
      " 8   Ticket       891 non-null    object \n",
      " 9   Fare         891 non-null    float64\n",
      " 10  Cabin        204 non-null    object \n",
      " 11  Embarked     889 non-null    object \n",
      "dtypes: float64(2), int64(5), object(5)\n",
      "memory usage: 83.7+ KB\n"
     ]
    }
   ],
   "source": [
    "data.info()"
   ]
  },
  {
   "cell_type": "markdown",
   "id": "7d1627fc",
   "metadata": {},
   "source": [
    "The given dataset consist of 891 rows and 12 columns.\n",
    "\n",
    "Each row represents a person who travelled in titanic.The columns are 'Passenger -id' ,'Survived':indicating survival status,'Pclass'(representing Passenger class), 'Name', 'Sex', 'Age', 'SibSp'(representing number of siblings or spouse of a person onboard), 'Parch'( representing number of parents or children on board), 'Ticket','Fare', 'Cabin', 'Embarked'(indicates joining station:Southampton, Cherbourg, and Queenstown)"
   ]
  },
  {
   "cell_type": "markdown",
   "id": "66d98064",
   "metadata": {},
   "source": [
    "# 2) Pre-processing\n"
   ]
  },
  {
   "cell_type": "markdown",
   "id": "91b3dfc1",
   "metadata": {},
   "source": [
    "# 2.1) Checking for null values"
   ]
  },
  {
   "cell_type": "code",
   "execution_count": 6,
   "id": "45ab6fab",
   "metadata": {},
   "outputs": [
    {
     "data": {
      "text/plain": [
       "PassengerId      0\n",
       "Survived         0\n",
       "Pclass           0\n",
       "Name             0\n",
       "Sex              0\n",
       "Age            177\n",
       "SibSp            0\n",
       "Parch            0\n",
       "Ticket           0\n",
       "Fare             0\n",
       "Cabin          687\n",
       "Embarked         2\n",
       "dtype: int64"
      ]
     },
     "execution_count": 6,
     "metadata": {},
     "output_type": "execute_result"
    }
   ],
   "source": [
    "data.isna().sum()\n"
   ]
  },
  {
   "cell_type": "markdown",
   "id": "aceb84fc",
   "metadata": {},
   "source": [
    "Embarked column has 2 null values,whereas Age has 177 null values and Cabin has 687 null values. Embarked and Cabin are categorical columns whereas Age is a numerical column."
   ]
  },
  {
   "cell_type": "code",
   "execution_count": 7,
   "id": "d0ce8e82",
   "metadata": {},
   "outputs": [
    {
     "data": {
      "text/plain": [
       "PassengerId      int64\n",
       "Survived         int64\n",
       "Pclass           int64\n",
       "Name            object\n",
       "Sex             object\n",
       "Age            float64\n",
       "SibSp            int64\n",
       "Parch            int64\n",
       "Ticket          object\n",
       "Fare           float64\n",
       "Cabin           object\n",
       "Embarked        object\n",
       "dtype: object"
      ]
     },
     "execution_count": 7,
     "metadata": {},
     "output_type": "execute_result"
    }
   ],
   "source": [
    "data.dtypes"
   ]
  },
  {
   "cell_type": "markdown",
   "id": "653b035d",
   "metadata": {},
   "source": [
    "# 2.2) Filling the missing values"
   ]
  },
  {
   "cell_type": "markdown",
   "id": "179204e6",
   "metadata": {},
   "source": [
    "# 2.2.1) Filling 'Embarked' column"
   ]
  },
  {
   "cell_type": "code",
   "execution_count": 8,
   "id": "65939aac",
   "metadata": {},
   "outputs": [
    {
     "data": {
      "text/plain": [
       "3"
      ]
     },
     "execution_count": 8,
     "metadata": {},
     "output_type": "execute_result"
    }
   ],
   "source": [
    "data.Embarked.nunique()"
   ]
  },
  {
   "cell_type": "code",
   "execution_count": 9,
   "id": "151523e1",
   "metadata": {},
   "outputs": [
    {
     "data": {
      "text/plain": [
       "0    S\n",
       "dtype: object"
      ]
     },
     "execution_count": 9,
     "metadata": {},
     "output_type": "execute_result"
    }
   ],
   "source": [
    "data.Embarked.mode()"
   ]
  },
  {
   "cell_type": "markdown",
   "id": "6c4b6f63",
   "metadata": {},
   "source": [
    "Embarked is a categorical column which can have 3 values : S,C and Q representing Southampton, Cherbourg, and Queenstown from where the traveller boarded the ship. Embarked column has only 2 missing values and Mode method can be used to fill in the values."
   ]
  },
  {
   "cell_type": "code",
   "execution_count": 10,
   "id": "a307caee",
   "metadata": {},
   "outputs": [],
   "source": [
    "data['Embarked'] = data['Embarked'].fillna(data['Embarked'].mode()[0])"
   ]
  },
  {
   "cell_type": "markdown",
   "id": "2bdcd5ba",
   "metadata": {},
   "source": [
    "# 2.2.2) Filling 'Age' column"
   ]
  },
  {
   "cell_type": "code",
   "execution_count": 11,
   "id": "d85fc85f",
   "metadata": {},
   "outputs": [
    {
     "data": {
      "image/png": "[encoded data removed]",
      "text/plain": [
       "<Figure size 1440x1080 with 2 Axes>"
      ]
     },
     "metadata": {
      "needs_background": "light"
     },
     "output_type": "display_data"
    }
   ],
   "source": [
    "import matplotlib.pyplot as plt\n",
    "freqgraph = data.select_dtypes(include=['float'])     \n",
    "freqgraph.hist(figsize=(20,15))\n",
    "plt.show()"
   ]
  },
  {
   "cell_type": "code",
   "execution_count": 12,
   "id": "7bec34c8",
   "metadata": {},
   "outputs": [],
   "source": [
    "data['Age'] = data['Age'].fillna(data['Age'].median())"
   ]
  },
  {
   "cell_type": "markdown",
   "id": "277350c0",
   "metadata": {},
   "source": [
    "# 2.2.3) Filling 'Cabin' column"
   ]
  },
  {
   "cell_type": "code",
   "execution_count": 13,
   "id": "6ec3152c",
   "metadata": {},
   "outputs": [
    {
     "data": {
      "text/plain": [
       "147"
      ]
     },
     "execution_count": 13,
     "metadata": {},
     "output_type": "execute_result"
    }
   ],
   "source": [
    "data.Cabin.nunique()"
   ]
  },
  {
   "cell_type": "code",
   "execution_count": 14,
   "id": "f5e67d5c",
   "metadata": {},
   "outputs": [
    {
     "data": {
      "text/plain": [
       "0        B96 B98\n",
       "1    C23 C25 C27\n",
       "2             G6\n",
       "dtype: object"
      ]
     },
     "execution_count": 14,
     "metadata": {},
     "output_type": "execute_result"
    }
   ],
   "source": [
    "data.Cabin.mode()"
   ]
  },
  {
   "cell_type": "code",
   "execution_count": 15,
   "id": "54d95348",
   "metadata": {},
   "outputs": [],
   "source": [
    "data['Cabin'] = data['Cabin'].fillna(data['Cabin'].mode()[0])"
   ]
  },
  {
   "cell_type": "markdown",
   "id": "cecef2c4",
   "metadata": {},
   "source": [
    "# 2.2.4) Checking whether all missing are values replaced"
   ]
  },
  {
   "cell_type": "code",
   "execution_count": 16,
   "id": "d04c866b",
   "metadata": {},
   "outputs": [
    {
     "data": {
      "text/plain": [
       "PassengerId    0\n",
       "Survived       0\n",
       "Pclass         0\n",
       "Name           0\n",
       "Sex            0\n",
       "Age            0\n",
       "SibSp          0\n",
       "Parch          0\n",
       "Ticket         0\n",
       "Fare           0\n",
       "Cabin          0\n",
       "Embarked       0\n",
       "dtype: int64"
      ]
     },
     "execution_count": 16,
     "metadata": {},
     "output_type": "execute_result"
    }
   ],
   "source": [
    "data.isna().sum()"
   ]
  },
  {
   "cell_type": "markdown",
   "id": "748e6844",
   "metadata": {},
   "source": [
    "# 2.3)handling outliers"
   ]
  },
  {
   "cell_type": "code",
   "execution_count": 17,
   "id": "98ab77b7",
   "metadata": {},
   "outputs": [
    {
     "data": {
      "text/plain": [
       "PassengerId      int64\n",
       "Survived         int64\n",
       "Pclass           int64\n",
       "Name            object\n",
       "Sex             object\n",
       "Age            float64\n",
       "SibSp            int64\n",
       "Parch            int64\n",
       "Ticket          object\n",
       "Fare           float64\n",
       "Cabin           object\n",
       "Embarked        object\n",
       "dtype: object"
      ]
     },
     "execution_count": 17,
     "metadata": {},
     "output_type": "execute_result"
    }
   ],
   "source": [
    "data.dtypes"
   ]
  },
  {
   "cell_type": "code",
   "execution_count": 18,
   "id": "04442d0b",
   "metadata": {},
   "outputs": [
    {
     "data": {
      "image/png": "[encoded data removed]",
      "text/plain": [
       "<Figure size 1440x1080 with 1 Axes>"
      ]
     },
     "metadata": {
      "needs_background": "light"
     },
     "output_type": "display_data"
    }
   ],
   "source": [
    "#Finding outliers\n",
    "graph=data.select_dtypes(include=['int64','float64','int32'])\n",
    "graph.boxplot(figsize=(20,15))\n",
    "plt.show()"
   ]
  },
  {
   "cell_type": "code",
   "execution_count": 19,
   "id": "7cdb3b7c",
   "metadata": {},
   "outputs": [],
   "source": [
    "#IQR"
   ]
  },
  {
   "cell_type": "code",
   "execution_count": 20,
   "id": "1f67556a",
   "metadata": {},
   "outputs": [
    {
     "name": "stdout",
     "output_type": "stream",
     "text": [
      "Age             66\n",
      "Cabin            0\n",
      "Embarked         0\n",
      "Fare           116\n",
      "Name             0\n",
      "Parch          213\n",
      "PassengerId      0\n",
      "Pclass           0\n",
      "Sex              0\n",
      "SibSp           46\n",
      "Survived         0\n",
      "Ticket           0\n",
      "dtype: int64\n"
     ]
    }
   ],
   "source": [
    "import warnings\n",
    "warnings.filterwarnings(\"ignore\")\n",
    "Q1=data.quantile(.25)\n",
    "Q3=data.quantile(.75)\n",
    "IQR=Q3-Q1\n",
    "print(((data<(Q1-1.5*IQR))|(data>(Q3+1.5*IQR))).sum())"
   ]
  },
  {
   "cell_type": "code",
   "execution_count": 21,
   "id": "841d98c6",
   "metadata": {},
   "outputs": [],
   "source": [
    "Q1 = np.percentile(data['Age'], 25, interpolation = 'midpoint')  \n",
    "Q2 = np.percentile(data['Age'], 50, interpolation = 'midpoint')  \n",
    "Q3 = np.percentile(data['Age'], 75, interpolation = 'midpoint') \n",
    "IQR = Q3 - Q1 \n",
    "low_lim = Q1 - 1.5 * IQR \n",
    "up_lim = Q3 + 1.5 * IQR "
   ]
  },
  {
   "cell_type": "code",
   "execution_count": 22,
   "id": "f5015687",
   "metadata": {},
   "outputs": [
    {
     "name": "stdout",
     "output_type": "stream",
     "text": [
      "2.5\n",
      "54.5\n"
     ]
    }
   ],
   "source": [
    "print(low_lim)\n",
    "print(up_lim)"
   ]
  },
  {
   "cell_type": "code",
   "execution_count": 23,
   "id": "32ec6f62",
   "metadata": {},
   "outputs": [
    {
     "name": "stdout",
     "output_type": "stream",
     "text": [
      "[2.0, 58.0, 55.0, 2.0, 66.0, 65.0, 0.83, 59.0, 71.0, 70.5, 2.0, 55.5, 1.0, 61.0, 1.0, 56.0, 1.0, 58.0, 2.0, 59.0, 62.0, 58.0, 63.0, 65.0, 2.0, 0.92, 61.0, 2.0, 60.0, 1.0, 1.0, 64.0, 65.0, 56.0, 0.75, 2.0, 63.0, 58.0, 55.0, 71.0, 2.0, 64.0, 62.0, 62.0, 60.0, 61.0, 57.0, 80.0, 2.0, 0.75, 56.0, 58.0, 70.0, 60.0, 60.0, 70.0, 0.67, 57.0, 1.0, 0.42, 2.0, 1.0, 62.0, 0.83, 74.0, 56.0]\n"
     ]
    }
   ],
   "source": [
    "outlier =[] \n",
    "for x in data['Age']: \n",
    "    if ((x> up_lim) or (x<low_lim)): \n",
    "         outlier.append(x)\n",
    "print(outlier)"
   ]
  },
  {
   "cell_type": "code",
   "execution_count": 24,
   "id": "faa4e06b",
   "metadata": {},
   "outputs": [
    {
     "data": {
      "text/plain": [
       "Int64Index([  7,  16,  78, 119, 164, 172, 183, 205, 297, 305, 340, 381, 386,\n",
       "            469, 479, 530, 642, 644, 755, 788, 803, 824, 827, 831],\n",
       "           dtype='int64')"
      ]
     },
     "execution_count": 24,
     "metadata": {},
     "output_type": "execute_result"
    }
   ],
   "source": [
    "ind1 = data['Age']<low_lim\n",
    "data.loc[ind1].index\n"
   ]
  },
  {
   "cell_type": "code",
   "execution_count": 25,
   "id": "617a290a",
   "metadata": {},
   "outputs": [
    {
     "data": {
      "text/plain": [
       "Int64Index([ 11,  15,  33,  54,  94,  96, 116, 152, 170, 174, 195, 232, 252,\n",
       "            268, 275, 280, 326, 366, 438, 456, 467, 483, 487, 492, 493, 545,\n",
       "            555, 570, 587, 625, 626, 630, 647, 659, 672, 684, 694, 745, 772,\n",
       "            829, 851, 879],\n",
       "           dtype='int64')"
      ]
     },
     "execution_count": 25,
     "metadata": {},
     "output_type": "execute_result"
    }
   ],
   "source": [
    "ind2 = data['Age']>up_lim\n",
    "data.loc[ind2].index"
   ]
  },
  {
   "cell_type": "code",
   "execution_count": 26,
   "id": "9d3ce0f1",
   "metadata": {},
   "outputs": [],
   "source": [
    "data.drop([ 7,  16,  78, 119, 164, 172, 183, 205, 297, 305, 340, 381, 386,\n",
    "            469, 479, 530, 642, 644, 755, 788, 803, 824, 827, 831,11,  15,  33,  54,  94,  96, 116, 152, 170, 174, 195, 232, 252,\n",
    "            268, 275, 280, 326, 366, 438, 456, 467, 483, 487, 492, 493, 545,\n",
    "            555, 570, 587, 625, 626, 630, 647, 659, 672, 684, 694, 745, 772,\n",
    "            829, 851, 879], inplace=True)"
   ]
  },
  {
   "cell_type": "code",
   "execution_count": 27,
   "id": "32ec198d",
   "metadata": {},
   "outputs": [
    {
     "data": {
      "text/plain": [
       "Text(0.5, 1.0, 'Box plot of Age')"
      ]
     },
     "execution_count": 27,
     "metadata": {},
     "output_type": "execute_result"
    },
    {
     "data": {
      "image/png": "[encoded data removed]",
      "text/plain": [
       "<Figure size 432x288 with 1 Axes>"
      ]
     },
     "metadata": {
      "needs_background": "light"
     },
     "output_type": "display_data"
    }
   ],
   "source": [
    "plt.boxplot(data['Age'])\n",
    "plt.title('Box plot of Age')"
   ]
  },
  {
   "cell_type": "code",
   "execution_count": 28,
   "id": "c2307df9",
   "metadata": {},
   "outputs": [],
   "source": [
    "#outlier for SibSp"
   ]
  },
  {
   "cell_type": "code",
   "execution_count": 29,
   "id": "bc4320f4",
   "metadata": {},
   "outputs": [],
   "source": [
    "Q1 = np.percentile(data['SibSp'], 25, interpolation = 'midpoint')  \n",
    "Q2 = np.percentile(data['SibSp'], 50, interpolation = 'midpoint')  \n",
    "Q3 = np.percentile(data['SibSp'], 75, interpolation = 'midpoint') \n",
    "IQR = Q3 - Q1\n",
    "low_lim = Q1 - 1.5 * IQR \n",
    "up_lim = Q3 + 1.5 * IQR "
   ]
  },
  {
   "cell_type": "code",
   "execution_count": 30,
   "id": "de85188d",
   "metadata": {},
   "outputs": [
    {
     "data": {
      "text/plain": [
       "Int64Index([], dtype='int64')"
      ]
     },
     "execution_count": 30,
     "metadata": {},
     "output_type": "execute_result"
    }
   ],
   "source": [
    "ind1 = data['SibSp']<low_lim\n",
    "data.loc[ind1].index"
   ]
  },
  {
   "cell_type": "code",
   "execution_count": 31,
   "id": "faacb6e8",
   "metadata": {},
   "outputs": [
    {
     "data": {
      "text/plain": [
       "Int64Index([ 24,  27,  50,  59,  63,  68,  71,  85,  88, 159, 171, 176, 180,\n",
       "            182, 201, 229, 233, 261, 266, 278, 324, 341, 374, 409, 480, 485,\n",
       "            541, 542, 634, 683, 686, 726, 787, 792, 813, 819, 846, 850, 863],\n",
       "           dtype='int64')"
      ]
     },
     "execution_count": 31,
     "metadata": {},
     "output_type": "execute_result"
    }
   ],
   "source": [
    "ind2 = data['SibSp']>up_lim\n",
    "data.loc[ind2].index"
   ]
  },
  {
   "cell_type": "code",
   "execution_count": 32,
   "id": "64e09cff",
   "metadata": {},
   "outputs": [],
   "source": [
    "data.drop([24,  27,  50,  59,  63,  68,  71,  85,  88, 159, 171, 176, 180,\n",
    "            182, 201, 229, 233, 261, 266, 278, 324, 341, 374, 409, 480, 485,\n",
    "            541, 542, 634, 683, 686, 726, 787, 792, 813, 819, 846, 850, 863],inplace=True)"
   ]
  },
  {
   "cell_type": "code",
   "execution_count": 33,
   "id": "80c44f51",
   "metadata": {},
   "outputs": [
    {
     "data": {
      "text/plain": [
       "Text(0.5, 1.0, 'Box plot of SibSp')"
      ]
     },
     "execution_count": 33,
     "metadata": {},
     "output_type": "execute_result"
    },
    {
     "data": {
      "image/png": "[encoded data removed]",
      "text/plain": [
       "<Figure size 432x288 with 1 Axes>"
      ]
     },
     "metadata": {
      "needs_background": "light"
     },
     "output_type": "display_data"
    }
   ],
   "source": [
    "plt.boxplot(data['SibSp'])\n",
    "plt.title('Box plot of SibSp')"
   ]
  },
  {
   "cell_type": "code",
   "execution_count": 34,
   "id": "d016b128",
   "metadata": {},
   "outputs": [],
   "source": [
    "Q1 = np.percentile(data['Fare'], 25, interpolation = 'midpoint')  \n",
    "Q2 = np.percentile(data['Fare'], 50, interpolation = 'midpoint')  \n",
    "Q3 = np.percentile(data['Fare'], 75, interpolation = 'midpoint') \n",
    "IQR = Q3 - Q1 \n",
    "low_lim = Q1 - 1.5 * IQR \n",
    "up_lim = Q3 + 1.5 * IQR\n"
   ]
  },
  {
   "cell_type": "code",
   "execution_count": 35,
   "id": "c341dc5f",
   "metadata": {},
   "outputs": [
    {
     "name": "stdout",
     "output_type": "stream",
     "text": [
      "-21.885499999999997\n",
      "57.5313\n"
     ]
    }
   ],
   "source": [
    "print(low_lim)\n",
    "print(up_lim)"
   ]
  },
  {
   "cell_type": "code",
   "execution_count": 36,
   "id": "94d41b3e",
   "metadata": {},
   "outputs": [
    {
     "name": "stdout",
     "output_type": "stream",
     "text": [
      "[71.2833, 146.5208, 82.1708, 76.7292, 80.0, 83.475, 73.5, 61.175, 63.3583, 77.2875, 247.5208, 73.5, 77.2875, 79.2, 66.6, 61.3792, 113.275, 76.2917, 90.0, 83.475, 90.0, 79.2, 86.5, 512.3292, 79.65, 135.6333, 78.85, 91.0792, 247.5208, 110.8833, 108.9, 83.1583, 262.375, 164.8667, 134.5, 135.6333, 57.9792, 153.4625, 133.65, 66.6, 134.5, 69.3, 135.6333, 82.1708, 211.5, 227.525, 73.5, 120.0, 113.275, 90.0, 120.0, 81.8583, 89.1042, 91.0792, 90.0, 78.2667, 151.55, 86.5, 108.9, 59.4, 93.5, 57.9792, 221.7792, 106.425, 71.0, 106.425, 110.8833, 227.525, 79.65, 110.8833, 79.65, 78.2667, 153.4625, 65.0, 77.9583, 69.3, 76.7292, 73.5, 133.65, 73.5, 512.3292, 76.7292, 211.3375, 110.8833, 227.525, 151.55, 227.525, 211.3375, 512.3292, 78.85, 262.375, 65.0, 86.5, 120.0, 77.9583, 211.3375, 79.2, 120.0, 93.5, 83.1583, 89.1042, 164.8667]\n"
     ]
    }
   ],
   "source": [
    "outlier =[] \n",
    "for x in data['Fare']: \n",
    "    if ((x> up_lim) or (x<low_lim)): \n",
    "         outlier.append(x)\n",
    "print(outlier)"
   ]
  },
  {
   "cell_type": "code",
   "execution_count": 37,
   "id": "972ff2c2",
   "metadata": {},
   "outputs": [
    {
     "data": {
      "text/plain": [
       "Int64Index([], dtype='int64')"
      ]
     },
     "execution_count": 37,
     "metadata": {},
     "output_type": "execute_result"
    }
   ],
   "source": [
    "ind1 = data['Fare']<low_lim\n",
    "data.loc[ind1].index"
   ]
  },
  {
   "cell_type": "code",
   "execution_count": 38,
   "id": "77c67a2b",
   "metadata": {},
   "outputs": [
    {
     "data": {
      "text/plain": [
       "Int64Index([  1,  31,  34,  52,  61,  62,  72,  92,  97, 102,\n",
       "            ...\n",
       "            759, 763, 765, 779, 789, 802, 820, 835, 849, 856],\n",
       "           dtype='int64', length=102)"
      ]
     },
     "execution_count": 38,
     "metadata": {},
     "output_type": "execute_result"
    }
   ],
   "source": [
    "ind2 = data['Fare']>up_lim\n",
    "data.loc[ind2].index"
   ]
  },
  {
   "cell_type": "code",
   "execution_count": 39,
   "id": "8142cd56",
   "metadata": {},
   "outputs": [],
   "source": [
    "data.drop([  1,  31,  34,  52,  61,  62,  72,  92,  97, 102,759, 763, 765, 779, 789, 802, 820, 835, 849, 856],inplace=True)"
   ]
  },
  {
   "cell_type": "code",
   "execution_count": 40,
   "id": "16c80977",
   "metadata": {},
   "outputs": [
    {
     "data": {
      "text/plain": [
       "Text(0.5, 1.0, 'Box plot of Fare')"
      ]
     },
     "execution_count": 40,
     "metadata": {},
     "output_type": "execute_result"
    },
    {
     "data": {
      "image/png": "[encoded data removed]",
      "text/plain": [
       "<Figure size 432x288 with 1 Axes>"
      ]
     },
     "metadata": {
      "needs_background": "light"
     },
     "output_type": "display_data"
    }
   ],
   "source": [
    "plt.boxplot(data['Fare'])\n",
    "plt.title('Box plot of Fare')"
   ]
  },
  {
   "cell_type": "code",
   "execution_count": 41,
   "id": "f6296b06",
   "metadata": {},
   "outputs": [
    {
     "data": {
      "image/png": "[encoded data removed]",
      "text/plain": [
       "<Figure size 1440x1080 with 1 Axes>"
      ]
     },
     "metadata": {
      "needs_background": "light"
     },
     "output_type": "display_data"
    }
   ],
   "source": [
    "#Finding outliers\n",
    "graph=data.select_dtypes(include=['int64','float64','int32'])\n",
    "graph.boxplot(figsize=(20,15))\n",
    "plt.show()"
   ]
  },
  {
   "cell_type": "markdown",
   "id": "120275b7",
   "metadata": {},
   "source": [
    "# 2.4)Encoding"
   ]
  },
  {
   "cell_type": "code",
   "execution_count": 53,
   "id": "91c4e83d",
   "metadata": {},
   "outputs": [],
   "source": [
    "data = pd.get_dummies(data)\n"
   ]
  },
  {
   "cell_type": "code",
   "execution_count": 54,
   "id": "2e402a9b",
   "metadata": {},
   "outputs": [
    {
     "data": {
      "text/html": [
       "<div>\n",
       "<style scoped>\n",
       "    .dataframe tbody tr th:only-of-type {\n",
       "        vertical-align: middle;\n",
       "    }\n",
       "\n",
       "    .dataframe tbody tr th {\n",
       "        vertical-align: top;\n",
       "    }\n",
       "\n",
       "    .dataframe thead th {\n",
       "        text-align: right;\n",
       "    }\n",
       "</style>\n",
       "<table border=\"1\" class=\"dataframe\">\n",
       "  <thead>\n",
       "    <tr style=\"text-align: right;\">\n",
       "      <th></th>\n",
       "      <th>PassengerId</th>\n",
       "      <th>Survived</th>\n",
       "      <th>Pclass</th>\n",
       "      <th>Age</th>\n",
       "      <th>SibSp</th>\n",
       "      <th>Parch</th>\n",
       "      <th>Fare</th>\n",
       "      <th>Name_Abbing, Mr. Anthony</th>\n",
       "      <th>Name_Abbott, Mr. Rossmore Edward</th>\n",
       "      <th>Name_Abbott, Mrs. Stanton (Rosa Hunt)</th>\n",
       "      <th>...</th>\n",
       "      <th>Cabin_F G73</th>\n",
       "      <th>Cabin_F2</th>\n",
       "      <th>Cabin_F33</th>\n",
       "      <th>Cabin_F38</th>\n",
       "      <th>Cabin_F4</th>\n",
       "      <th>Cabin_G6</th>\n",
       "      <th>Cabin_T</th>\n",
       "      <th>Embarked_C</th>\n",
       "      <th>Embarked_Q</th>\n",
       "      <th>Embarked_S</th>\n",
       "    </tr>\n",
       "  </thead>\n",
       "  <tbody>\n",
       "    <tr>\n",
       "      <th>0</th>\n",
       "      <td>1</td>\n",
       "      <td>0</td>\n",
       "      <td>3</td>\n",
       "      <td>22.0</td>\n",
       "      <td>1</td>\n",
       "      <td>0</td>\n",
       "      <td>7.2500</td>\n",
       "      <td>0</td>\n",
       "      <td>0</td>\n",
       "      <td>0</td>\n",
       "      <td>...</td>\n",
       "      <td>0</td>\n",
       "      <td>0</td>\n",
       "      <td>0</td>\n",
       "      <td>0</td>\n",
       "      <td>0</td>\n",
       "      <td>0</td>\n",
       "      <td>0</td>\n",
       "      <td>0</td>\n",
       "      <td>0</td>\n",
       "      <td>1</td>\n",
       "    </tr>\n",
       "    <tr>\n",
       "      <th>2</th>\n",
       "      <td>3</td>\n",
       "      <td>1</td>\n",
       "      <td>3</td>\n",
       "      <td>26.0</td>\n",
       "      <td>0</td>\n",
       "      <td>0</td>\n",
       "      <td>7.9250</td>\n",
       "      <td>0</td>\n",
       "      <td>0</td>\n",
       "      <td>0</td>\n",
       "      <td>...</td>\n",
       "      <td>0</td>\n",
       "      <td>0</td>\n",
       "      <td>0</td>\n",
       "      <td>0</td>\n",
       "      <td>0</td>\n",
       "      <td>0</td>\n",
       "      <td>0</td>\n",
       "      <td>0</td>\n",
       "      <td>0</td>\n",
       "      <td>1</td>\n",
       "    </tr>\n",
       "    <tr>\n",
       "      <th>3</th>\n",
       "      <td>4</td>\n",
       "      <td>1</td>\n",
       "      <td>1</td>\n",
       "      <td>35.0</td>\n",
       "      <td>1</td>\n",
       "      <td>0</td>\n",
       "      <td>53.1000</td>\n",
       "      <td>0</td>\n",
       "      <td>0</td>\n",
       "      <td>0</td>\n",
       "      <td>...</td>\n",
       "      <td>0</td>\n",
       "      <td>0</td>\n",
       "      <td>0</td>\n",
       "      <td>0</td>\n",
       "      <td>0</td>\n",
       "      <td>0</td>\n",
       "      <td>0</td>\n",
       "      <td>0</td>\n",
       "      <td>0</td>\n",
       "      <td>1</td>\n",
       "    </tr>\n",
       "    <tr>\n",
       "      <th>4</th>\n",
       "      <td>5</td>\n",
       "      <td>0</td>\n",
       "      <td>3</td>\n",
       "      <td>35.0</td>\n",
       "      <td>0</td>\n",
       "      <td>0</td>\n",
       "      <td>8.0500</td>\n",
       "      <td>0</td>\n",
       "      <td>0</td>\n",
       "      <td>0</td>\n",
       "      <td>...</td>\n",
       "      <td>0</td>\n",
       "      <td>0</td>\n",
       "      <td>0</td>\n",
       "      <td>0</td>\n",
       "      <td>0</td>\n",
       "      <td>0</td>\n",
       "      <td>0</td>\n",
       "      <td>0</td>\n",
       "      <td>0</td>\n",
       "      <td>1</td>\n",
       "    </tr>\n",
       "    <tr>\n",
       "      <th>5</th>\n",
       "      <td>6</td>\n",
       "      <td>0</td>\n",
       "      <td>3</td>\n",
       "      <td>28.0</td>\n",
       "      <td>0</td>\n",
       "      <td>0</td>\n",
       "      <td>8.4583</td>\n",
       "      <td>0</td>\n",
       "      <td>0</td>\n",
       "      <td>0</td>\n",
       "      <td>...</td>\n",
       "      <td>0</td>\n",
       "      <td>0</td>\n",
       "      <td>0</td>\n",
       "      <td>0</td>\n",
       "      <td>0</td>\n",
       "      <td>0</td>\n",
       "      <td>0</td>\n",
       "      <td>0</td>\n",
       "      <td>1</td>\n",
       "      <td>0</td>\n",
       "    </tr>\n",
       "  </tbody>\n",
       "</table>\n",
       "<p>5 rows × 1532 columns</p>\n",
       "</div>"
      ],
      "text/plain": [
       "   PassengerId  Survived  Pclass   Age  SibSp  Parch     Fare  \\\n",
       "0            1         0       3  22.0      1      0   7.2500   \n",
       "2            3         1       3  26.0      0      0   7.9250   \n",
       "3            4         1       1  35.0      1      0  53.1000   \n",
       "4            5         0       3  35.0      0      0   8.0500   \n",
       "5            6         0       3  28.0      0      0   8.4583   \n",
       "\n",
       "   Name_Abbing, Mr. Anthony  Name_Abbott, Mr. Rossmore Edward  \\\n",
       "0                         0                                 0   \n",
       "2                         0                                 0   \n",
       "3                         0                                 0   \n",
       "4                         0                                 0   \n",
       "5                         0                                 0   \n",
       "\n",
       "   Name_Abbott, Mrs. Stanton (Rosa Hunt)  ...  Cabin_F G73  Cabin_F2  \\\n",
       "0                                      0  ...            0         0   \n",
       "2                                      0  ...            0         0   \n",
       "3                                      0  ...            0         0   \n",
       "4                                      0  ...            0         0   \n",
       "5                                      0  ...            0         0   \n",
       "\n",
       "   Cabin_F33  Cabin_F38  Cabin_F4  Cabin_G6  Cabin_T  Embarked_C  Embarked_Q  \\\n",
       "0          0          0         0         0        0           0           0   \n",
       "2          0          0         0         0        0           0           0   \n",
       "3          0          0         0         0        0           0           0   \n",
       "4          0          0         0         0        0           0           0   \n",
       "5          0          0         0         0        0           0           1   \n",
       "\n",
       "   Embarked_S  \n",
       "0           1  \n",
       "2           1  \n",
       "3           1  \n",
       "4           1  \n",
       "5           0  \n",
       "\n",
       "[5 rows x 1532 columns]"
      ]
     },
     "execution_count": 54,
     "metadata": {},
     "output_type": "execute_result"
    }
   ],
   "source": [
    "data.head()"
   ]
  },
  {
   "cell_type": "code",
   "execution_count": 43,
   "id": "6d486d86",
   "metadata": {},
   "outputs": [],
   "source": [
    "Y = data['Survived']\n",
    "X = data.drop('Survived', axis=1)\n"
   ]
  },
  {
   "cell_type": "code",
   "execution_count": 44,
   "id": "0c343385",
   "metadata": {
    "scrolled": true
   },
   "outputs": [
    {
     "data": {
      "text/html": [
       "<div>\n",
       "<style scoped>\n",
       "    .dataframe tbody tr th:only-of-type {\n",
       "        vertical-align: middle;\n",
       "    }\n",
       "\n",
       "    .dataframe tbody tr th {\n",
       "        vertical-align: top;\n",
       "    }\n",
       "\n",
       "    .dataframe thead th {\n",
       "        text-align: right;\n",
       "    }\n",
       "</style>\n",
       "<table border=\"1\" class=\"dataframe\">\n",
       "  <thead>\n",
       "    <tr style=\"text-align: right;\">\n",
       "      <th></th>\n",
       "      <th>PassengerId</th>\n",
       "      <th>Pclass</th>\n",
       "      <th>Age</th>\n",
       "      <th>SibSp</th>\n",
       "      <th>Parch</th>\n",
       "      <th>Fare</th>\n",
       "      <th>Name_Abbing, Mr. Anthony</th>\n",
       "      <th>Name_Abbott, Mr. Rossmore Edward</th>\n",
       "      <th>Name_Abbott, Mrs. Stanton (Rosa Hunt)</th>\n",
       "      <th>Name_Abelson, Mr. Samuel</th>\n",
       "      <th>...</th>\n",
       "      <th>Cabin_F G73</th>\n",
       "      <th>Cabin_F2</th>\n",
       "      <th>Cabin_F33</th>\n",
       "      <th>Cabin_F38</th>\n",
       "      <th>Cabin_F4</th>\n",
       "      <th>Cabin_G6</th>\n",
       "      <th>Cabin_T</th>\n",
       "      <th>Embarked_C</th>\n",
       "      <th>Embarked_Q</th>\n",
       "      <th>Embarked_S</th>\n",
       "    </tr>\n",
       "  </thead>\n",
       "  <tbody>\n",
       "    <tr>\n",
       "      <th>count</th>\n",
       "      <td>766.000000</td>\n",
       "      <td>766.000000</td>\n",
       "      <td>766.000000</td>\n",
       "      <td>766.000000</td>\n",
       "      <td>766.000000</td>\n",
       "      <td>766.000000</td>\n",
       "      <td>766.000000</td>\n",
       "      <td>766.000000</td>\n",
       "      <td>766.000000</td>\n",
       "      <td>766.000000</td>\n",
       "      <td>...</td>\n",
       "      <td>766.000000</td>\n",
       "      <td>766.000000</td>\n",
       "      <td>766.000000</td>\n",
       "      <td>766.000000</td>\n",
       "      <td>766.000000</td>\n",
       "      <td>766.000000</td>\n",
       "      <td>766.000000</td>\n",
       "      <td>766.000000</td>\n",
       "      <td>766.000000</td>\n",
       "      <td>766.000000</td>\n",
       "    </tr>\n",
       "    <tr>\n",
       "      <th>mean</th>\n",
       "      <td>451.088773</td>\n",
       "      <td>2.351175</td>\n",
       "      <td>28.933420</td>\n",
       "      <td>0.302872</td>\n",
       "      <td>0.291123</td>\n",
       "      <td>28.552501</td>\n",
       "      <td>0.001305</td>\n",
       "      <td>0.001305</td>\n",
       "      <td>0.001305</td>\n",
       "      <td>0.001305</td>\n",
       "      <td>...</td>\n",
       "      <td>0.002611</td>\n",
       "      <td>0.002611</td>\n",
       "      <td>0.003916</td>\n",
       "      <td>0.001305</td>\n",
       "      <td>0.001305</td>\n",
       "      <td>0.003916</td>\n",
       "      <td>0.001305</td>\n",
       "      <td>0.187990</td>\n",
       "      <td>0.091384</td>\n",
       "      <td>0.720627</td>\n",
       "    </tr>\n",
       "    <tr>\n",
       "      <th>std</th>\n",
       "      <td>251.584479</td>\n",
       "      <td>0.812109</td>\n",
       "      <td>9.708739</td>\n",
       "      <td>0.526095</td>\n",
       "      <td>0.758464</td>\n",
       "      <td>48.006645</td>\n",
       "      <td>0.036131</td>\n",
       "      <td>0.036131</td>\n",
       "      <td>0.036131</td>\n",
       "      <td>0.036131</td>\n",
       "      <td>...</td>\n",
       "      <td>0.051064</td>\n",
       "      <td>0.051064</td>\n",
       "      <td>0.062500</td>\n",
       "      <td>0.036131</td>\n",
       "      <td>0.036131</td>\n",
       "      <td>0.062500</td>\n",
       "      <td>0.036131</td>\n",
       "      <td>0.390959</td>\n",
       "      <td>0.288342</td>\n",
       "      <td>0.448984</td>\n",
       "    </tr>\n",
       "    <tr>\n",
       "      <th>min</th>\n",
       "      <td>1.000000</td>\n",
       "      <td>1.000000</td>\n",
       "      <td>3.000000</td>\n",
       "      <td>0.000000</td>\n",
       "      <td>0.000000</td>\n",
       "      <td>0.000000</td>\n",
       "      <td>0.000000</td>\n",
       "      <td>0.000000</td>\n",
       "      <td>0.000000</td>\n",
       "      <td>0.000000</td>\n",
       "      <td>...</td>\n",
       "      <td>0.000000</td>\n",
       "      <td>0.000000</td>\n",
       "      <td>0.000000</td>\n",
       "      <td>0.000000</td>\n",
       "      <td>0.000000</td>\n",
       "      <td>0.000000</td>\n",
       "      <td>0.000000</td>\n",
       "      <td>0.000000</td>\n",
       "      <td>0.000000</td>\n",
       "      <td>0.000000</td>\n",
       "    </tr>\n",
       "    <tr>\n",
       "      <th>25%</th>\n",
       "      <td>239.250000</td>\n",
       "      <td>2.000000</td>\n",
       "      <td>23.000000</td>\n",
       "      <td>0.000000</td>\n",
       "      <td>0.000000</td>\n",
       "      <td>7.895800</td>\n",
       "      <td>0.000000</td>\n",
       "      <td>0.000000</td>\n",
       "      <td>0.000000</td>\n",
       "      <td>0.000000</td>\n",
       "      <td>...</td>\n",
       "      <td>0.000000</td>\n",
       "      <td>0.000000</td>\n",
       "      <td>0.000000</td>\n",
       "      <td>0.000000</td>\n",
       "      <td>0.000000</td>\n",
       "      <td>0.000000</td>\n",
       "      <td>0.000000</td>\n",
       "      <td>0.000000</td>\n",
       "      <td>0.000000</td>\n",
       "      <td>0.000000</td>\n",
       "    </tr>\n",
       "    <tr>\n",
       "      <th>50%</th>\n",
       "      <td>449.500000</td>\n",
       "      <td>3.000000</td>\n",
       "      <td>28.000000</td>\n",
       "      <td>0.000000</td>\n",
       "      <td>0.000000</td>\n",
       "      <td>13.000000</td>\n",
       "      <td>0.000000</td>\n",
       "      <td>0.000000</td>\n",
       "      <td>0.000000</td>\n",
       "      <td>0.000000</td>\n",
       "      <td>...</td>\n",
       "      <td>0.000000</td>\n",
       "      <td>0.000000</td>\n",
       "      <td>0.000000</td>\n",
       "      <td>0.000000</td>\n",
       "      <td>0.000000</td>\n",
       "      <td>0.000000</td>\n",
       "      <td>0.000000</td>\n",
       "      <td>0.000000</td>\n",
       "      <td>0.000000</td>\n",
       "      <td>1.000000</td>\n",
       "    </tr>\n",
       "    <tr>\n",
       "      <th>75%</th>\n",
       "      <td>665.750000</td>\n",
       "      <td>3.000000</td>\n",
       "      <td>34.000000</td>\n",
       "      <td>1.000000</td>\n",
       "      <td>0.000000</td>\n",
       "      <td>26.550000</td>\n",
       "      <td>0.000000</td>\n",
       "      <td>0.000000</td>\n",
       "      <td>0.000000</td>\n",
       "      <td>0.000000</td>\n",
       "      <td>...</td>\n",
       "      <td>0.000000</td>\n",
       "      <td>0.000000</td>\n",
       "      <td>0.000000</td>\n",
       "      <td>0.000000</td>\n",
       "      <td>0.000000</td>\n",
       "      <td>0.000000</td>\n",
       "      <td>0.000000</td>\n",
       "      <td>0.000000</td>\n",
       "      <td>0.000000</td>\n",
       "      <td>1.000000</td>\n",
       "    </tr>\n",
       "    <tr>\n",
       "      <th>max</th>\n",
       "      <td>891.000000</td>\n",
       "      <td>3.000000</td>\n",
       "      <td>54.000000</td>\n",
       "      <td>2.000000</td>\n",
       "      <td>6.000000</td>\n",
       "      <td>512.329200</td>\n",
       "      <td>1.000000</td>\n",
       "      <td>1.000000</td>\n",
       "      <td>1.000000</td>\n",
       "      <td>1.000000</td>\n",
       "      <td>...</td>\n",
       "      <td>1.000000</td>\n",
       "      <td>1.000000</td>\n",
       "      <td>1.000000</td>\n",
       "      <td>1.000000</td>\n",
       "      <td>1.000000</td>\n",
       "      <td>1.000000</td>\n",
       "      <td>1.000000</td>\n",
       "      <td>1.000000</td>\n",
       "      <td>1.000000</td>\n",
       "      <td>1.000000</td>\n",
       "    </tr>\n",
       "  </tbody>\n",
       "</table>\n",
       "<p>8 rows × 1531 columns</p>\n",
       "</div>"
      ],
      "text/plain": [
       "       PassengerId      Pclass         Age       SibSp       Parch  \\\n",
       "count   766.000000  766.000000  766.000000  766.000000  766.000000   \n",
       "mean    451.088773    2.351175   28.933420    0.302872    0.291123   \n",
       "std     251.584479    0.812109    9.708739    0.526095    0.758464   \n",
       "min       1.000000    1.000000    3.000000    0.000000    0.000000   \n",
       "25%     239.250000    2.000000   23.000000    0.000000    0.000000   \n",
       "50%     449.500000    3.000000   28.000000    0.000000    0.000000   \n",
       "75%     665.750000    3.000000   34.000000    1.000000    0.000000   \n",
       "max     891.000000    3.000000   54.000000    2.000000    6.000000   \n",
       "\n",
       "             Fare  Name_Abbing, Mr. Anthony  Name_Abbott, Mr. Rossmore Edward  \\\n",
       "count  766.000000                766.000000                        766.000000   \n",
       "mean    28.552501                  0.001305                          0.001305   \n",
       "std     48.006645                  0.036131                          0.036131   \n",
       "min      0.000000                  0.000000                          0.000000   \n",
       "25%      7.895800                  0.000000                          0.000000   \n",
       "50%     13.000000                  0.000000                          0.000000   \n",
       "75%     26.550000                  0.000000                          0.000000   \n",
       "max    512.329200                  1.000000                          1.000000   \n",
       "\n",
       "       Name_Abbott, Mrs. Stanton (Rosa Hunt)  Name_Abelson, Mr. Samuel  ...  \\\n",
       "count                             766.000000                766.000000  ...   \n",
       "mean                                0.001305                  0.001305  ...   \n",
       "std                                 0.036131                  0.036131  ...   \n",
       "min                                 0.000000                  0.000000  ...   \n",
       "25%                                 0.000000                  0.000000  ...   \n",
       "50%                                 0.000000                  0.000000  ...   \n",
       "75%                                 0.000000                  0.000000  ...   \n",
       "max                                 1.000000                  1.000000  ...   \n",
       "\n",
       "       Cabin_F G73    Cabin_F2   Cabin_F33   Cabin_F38    Cabin_F4  \\\n",
       "count   766.000000  766.000000  766.000000  766.000000  766.000000   \n",
       "mean      0.002611    0.002611    0.003916    0.001305    0.001305   \n",
       "std       0.051064    0.051064    0.062500    0.036131    0.036131   \n",
       "min       0.000000    0.000000    0.000000    0.000000    0.000000   \n",
       "25%       0.000000    0.000000    0.000000    0.000000    0.000000   \n",
       "50%       0.000000    0.000000    0.000000    0.000000    0.000000   \n",
       "75%       0.000000    0.000000    0.000000    0.000000    0.000000   \n",
       "max       1.000000    1.000000    1.000000    1.000000    1.000000   \n",
       "\n",
       "         Cabin_G6     Cabin_T  Embarked_C  Embarked_Q  Embarked_S  \n",
       "count  766.000000  766.000000  766.000000  766.000000  766.000000  \n",
       "mean     0.003916    0.001305    0.187990    0.091384    0.720627  \n",
       "std      0.062500    0.036131    0.390959    0.288342    0.448984  \n",
       "min      0.000000    0.000000    0.000000    0.000000    0.000000  \n",
       "25%      0.000000    0.000000    0.000000    0.000000    0.000000  \n",
       "50%      0.000000    0.000000    0.000000    0.000000    1.000000  \n",
       "75%      0.000000    0.000000    0.000000    0.000000    1.000000  \n",
       "max      1.000000    1.000000    1.000000    1.000000    1.000000  \n",
       "\n",
       "[8 rows x 1531 columns]"
      ]
     },
     "execution_count": 44,
     "metadata": {},
     "output_type": "execute_result"
    }
   ],
   "source": [
    "X.describe()"
   ]
  },
  {
   "cell_type": "code",
   "execution_count": 45,
   "id": "290a057a",
   "metadata": {},
   "outputs": [],
   "source": [
    "from sklearn.preprocessing import MinMaxScaler"
   ]
  },
  {
   "cell_type": "code",
   "execution_count": 46,
   "id": "dff7357e",
   "metadata": {},
   "outputs": [],
   "source": [
    "min_max_scaler = MinMaxScaler(feature_range =(0, 1)) "
   ]
  },
  {
   "cell_type": "code",
   "execution_count": 47,
   "id": "2c3dcff9",
   "metadata": {},
   "outputs": [],
   "source": [
    "X = min_max_scaler.fit_transform(X)"
   ]
  },
  {
   "cell_type": "code",
   "execution_count": 48,
   "id": "14eb1fc7",
   "metadata": {},
   "outputs": [],
   "source": [
    "X = pd.DataFrame(X)"
   ]
  },
  {
   "cell_type": "code",
   "execution_count": 49,
   "id": "9a0a6076",
   "metadata": {},
   "outputs": [
    {
     "data": {
      "text/html": [
       "<div>\n",
       "<style scoped>\n",
       "    .dataframe tbody tr th:only-of-type {\n",
       "        vertical-align: middle;\n",
       "    }\n",
       "\n",
       "    .dataframe tbody tr th {\n",
       "        vertical-align: top;\n",
       "    }\n",
       "\n",
       "    .dataframe thead th {\n",
       "        text-align: right;\n",
       "    }\n",
       "</style>\n",
       "<table border=\"1\" class=\"dataframe\">\n",
       "  <thead>\n",
       "    <tr style=\"text-align: right;\">\n",
       "      <th></th>\n",
       "      <th>0</th>\n",
       "      <th>1</th>\n",
       "      <th>2</th>\n",
       "      <th>3</th>\n",
       "      <th>4</th>\n",
       "      <th>5</th>\n",
       "      <th>6</th>\n",
       "      <th>7</th>\n",
       "      <th>8</th>\n",
       "      <th>9</th>\n",
       "      <th>...</th>\n",
       "      <th>1521</th>\n",
       "      <th>1522</th>\n",
       "      <th>1523</th>\n",
       "      <th>1524</th>\n",
       "      <th>1525</th>\n",
       "      <th>1526</th>\n",
       "      <th>1527</th>\n",
       "      <th>1528</th>\n",
       "      <th>1529</th>\n",
       "      <th>1530</th>\n",
       "    </tr>\n",
       "  </thead>\n",
       "  <tbody>\n",
       "    <tr>\n",
       "      <th>count</th>\n",
       "      <td>766.000000</td>\n",
       "      <td>766.000000</td>\n",
       "      <td>766.000000</td>\n",
       "      <td>766.000000</td>\n",
       "      <td>766.000000</td>\n",
       "      <td>766.000000</td>\n",
       "      <td>766.000000</td>\n",
       "      <td>766.000000</td>\n",
       "      <td>766.000000</td>\n",
       "      <td>766.000000</td>\n",
       "      <td>...</td>\n",
       "      <td>766.000000</td>\n",
       "      <td>766.000000</td>\n",
       "      <td>766.000000</td>\n",
       "      <td>766.000000</td>\n",
       "      <td>766.000000</td>\n",
       "      <td>766.000000</td>\n",
       "      <td>766.000000</td>\n",
       "      <td>766.000000</td>\n",
       "      <td>766.000000</td>\n",
       "      <td>766.000000</td>\n",
       "    </tr>\n",
       "    <tr>\n",
       "      <th>mean</th>\n",
       "      <td>0.505718</td>\n",
       "      <td>0.675587</td>\n",
       "      <td>0.508498</td>\n",
       "      <td>0.151436</td>\n",
       "      <td>0.048520</td>\n",
       "      <td>0.055731</td>\n",
       "      <td>0.001305</td>\n",
       "      <td>0.001305</td>\n",
       "      <td>0.001305</td>\n",
       "      <td>0.001305</td>\n",
       "      <td>...</td>\n",
       "      <td>0.002611</td>\n",
       "      <td>0.002611</td>\n",
       "      <td>0.003916</td>\n",
       "      <td>0.001305</td>\n",
       "      <td>0.001305</td>\n",
       "      <td>0.003916</td>\n",
       "      <td>0.001305</td>\n",
       "      <td>0.187990</td>\n",
       "      <td>0.091384</td>\n",
       "      <td>0.720627</td>\n",
       "    </tr>\n",
       "    <tr>\n",
       "      <th>std</th>\n",
       "      <td>0.282679</td>\n",
       "      <td>0.406055</td>\n",
       "      <td>0.190367</td>\n",
       "      <td>0.263048</td>\n",
       "      <td>0.126411</td>\n",
       "      <td>0.093703</td>\n",
       "      <td>0.036131</td>\n",
       "      <td>0.036131</td>\n",
       "      <td>0.036131</td>\n",
       "      <td>0.036131</td>\n",
       "      <td>...</td>\n",
       "      <td>0.051064</td>\n",
       "      <td>0.051064</td>\n",
       "      <td>0.062500</td>\n",
       "      <td>0.036131</td>\n",
       "      <td>0.036131</td>\n",
       "      <td>0.062500</td>\n",
       "      <td>0.036131</td>\n",
       "      <td>0.390959</td>\n",
       "      <td>0.288342</td>\n",
       "      <td>0.448984</td>\n",
       "    </tr>\n",
       "    <tr>\n",
       "      <th>min</th>\n",
       "      <td>0.000000</td>\n",
       "      <td>0.000000</td>\n",
       "      <td>0.000000</td>\n",
       "      <td>0.000000</td>\n",
       "      <td>0.000000</td>\n",
       "      <td>0.000000</td>\n",
       "      <td>0.000000</td>\n",
       "      <td>0.000000</td>\n",
       "      <td>0.000000</td>\n",
       "      <td>0.000000</td>\n",
       "      <td>...</td>\n",
       "      <td>0.000000</td>\n",
       "      <td>0.000000</td>\n",
       "      <td>0.000000</td>\n",
       "      <td>0.000000</td>\n",
       "      <td>0.000000</td>\n",
       "      <td>0.000000</td>\n",
       "      <td>0.000000</td>\n",
       "      <td>0.000000</td>\n",
       "      <td>0.000000</td>\n",
       "      <td>0.000000</td>\n",
       "    </tr>\n",
       "    <tr>\n",
       "      <th>25%</th>\n",
       "      <td>0.267697</td>\n",
       "      <td>0.500000</td>\n",
       "      <td>0.392157</td>\n",
       "      <td>0.000000</td>\n",
       "      <td>0.000000</td>\n",
       "      <td>0.015412</td>\n",
       "      <td>0.000000</td>\n",
       "      <td>0.000000</td>\n",
       "      <td>0.000000</td>\n",
       "      <td>0.000000</td>\n",
       "      <td>...</td>\n",
       "      <td>0.000000</td>\n",
       "      <td>0.000000</td>\n",
       "      <td>0.000000</td>\n",
       "      <td>0.000000</td>\n",
       "      <td>0.000000</td>\n",
       "      <td>0.000000</td>\n",
       "      <td>0.000000</td>\n",
       "      <td>0.000000</td>\n",
       "      <td>0.000000</td>\n",
       "      <td>0.000000</td>\n",
       "    </tr>\n",
       "    <tr>\n",
       "      <th>50%</th>\n",
       "      <td>0.503933</td>\n",
       "      <td>1.000000</td>\n",
       "      <td>0.490196</td>\n",
       "      <td>0.000000</td>\n",
       "      <td>0.000000</td>\n",
       "      <td>0.025374</td>\n",
       "      <td>0.000000</td>\n",
       "      <td>0.000000</td>\n",
       "      <td>0.000000</td>\n",
       "      <td>0.000000</td>\n",
       "      <td>...</td>\n",
       "      <td>0.000000</td>\n",
       "      <td>0.000000</td>\n",
       "      <td>0.000000</td>\n",
       "      <td>0.000000</td>\n",
       "      <td>0.000000</td>\n",
       "      <td>0.000000</td>\n",
       "      <td>0.000000</td>\n",
       "      <td>0.000000</td>\n",
       "      <td>0.000000</td>\n",
       "      <td>1.000000</td>\n",
       "    </tr>\n",
       "    <tr>\n",
       "      <th>75%</th>\n",
       "      <td>0.746910</td>\n",
       "      <td>1.000000</td>\n",
       "      <td>0.607843</td>\n",
       "      <td>0.500000</td>\n",
       "      <td>0.000000</td>\n",
       "      <td>0.051822</td>\n",
       "      <td>0.000000</td>\n",
       "      <td>0.000000</td>\n",
       "      <td>0.000000</td>\n",
       "      <td>0.000000</td>\n",
       "      <td>...</td>\n",
       "      <td>0.000000</td>\n",
       "      <td>0.000000</td>\n",
       "      <td>0.000000</td>\n",
       "      <td>0.000000</td>\n",
       "      <td>0.000000</td>\n",
       "      <td>0.000000</td>\n",
       "      <td>0.000000</td>\n",
       "      <td>0.000000</td>\n",
       "      <td>0.000000</td>\n",
       "      <td>1.000000</td>\n",
       "    </tr>\n",
       "    <tr>\n",
       "      <th>max</th>\n",
       "      <td>1.000000</td>\n",
       "      <td>1.000000</td>\n",
       "      <td>1.000000</td>\n",
       "      <td>1.000000</td>\n",
       "      <td>1.000000</td>\n",
       "      <td>1.000000</td>\n",
       "      <td>1.000000</td>\n",
       "      <td>1.000000</td>\n",
       "      <td>1.000000</td>\n",
       "      <td>1.000000</td>\n",
       "      <td>...</td>\n",
       "      <td>1.000000</td>\n",
       "      <td>1.000000</td>\n",
       "      <td>1.000000</td>\n",
       "      <td>1.000000</td>\n",
       "      <td>1.000000</td>\n",
       "      <td>1.000000</td>\n",
       "      <td>1.000000</td>\n",
       "      <td>1.000000</td>\n",
       "      <td>1.000000</td>\n",
       "      <td>1.000000</td>\n",
       "    </tr>\n",
       "  </tbody>\n",
       "</table>\n",
       "<p>8 rows × 1531 columns</p>\n",
       "</div>"
      ],
      "text/plain": [
       "             0           1           2           3           4           5     \\\n",
       "count  766.000000  766.000000  766.000000  766.000000  766.000000  766.000000   \n",
       "mean     0.505718    0.675587    0.508498    0.151436    0.048520    0.055731   \n",
       "std      0.282679    0.406055    0.190367    0.263048    0.126411    0.093703   \n",
       "min      0.000000    0.000000    0.000000    0.000000    0.000000    0.000000   \n",
       "25%      0.267697    0.500000    0.392157    0.000000    0.000000    0.015412   \n",
       "50%      0.503933    1.000000    0.490196    0.000000    0.000000    0.025374   \n",
       "75%      0.746910    1.000000    0.607843    0.500000    0.000000    0.051822   \n",
       "max      1.000000    1.000000    1.000000    1.000000    1.000000    1.000000   \n",
       "\n",
       "             6           7           8           9     ...        1521  \\\n",
       "count  766.000000  766.000000  766.000000  766.000000  ...  766.000000   \n",
       "mean     0.001305    0.001305    0.001305    0.001305  ...    0.002611   \n",
       "std      0.036131    0.036131    0.036131    0.036131  ...    0.051064   \n",
       "min      0.000000    0.000000    0.000000    0.000000  ...    0.000000   \n",
       "25%      0.000000    0.000000    0.000000    0.000000  ...    0.000000   \n",
       "50%      0.000000    0.000000    0.000000    0.000000  ...    0.000000   \n",
       "75%      0.000000    0.000000    0.000000    0.000000  ...    0.000000   \n",
       "max      1.000000    1.000000    1.000000    1.000000  ...    1.000000   \n",
       "\n",
       "             1522        1523        1524        1525        1526        1527  \\\n",
       "count  766.000000  766.000000  766.000000  766.000000  766.000000  766.000000   \n",
       "mean     0.002611    0.003916    0.001305    0.001305    0.003916    0.001305   \n",
       "std      0.051064    0.062500    0.036131    0.036131    0.062500    0.036131   \n",
       "min      0.000000    0.000000    0.000000    0.000000    0.000000    0.000000   \n",
       "25%      0.000000    0.000000    0.000000    0.000000    0.000000    0.000000   \n",
       "50%      0.000000    0.000000    0.000000    0.000000    0.000000    0.000000   \n",
       "75%      0.000000    0.000000    0.000000    0.000000    0.000000    0.000000   \n",
       "max      1.000000    1.000000    1.000000    1.000000    1.000000    1.000000   \n",
       "\n",
       "             1528        1529        1530  \n",
       "count  766.000000  766.000000  766.000000  \n",
       "mean     0.187990    0.091384    0.720627  \n",
       "std      0.390959    0.288342    0.448984  \n",
       "min      0.000000    0.000000    0.000000  \n",
       "25%      0.000000    0.000000    0.000000  \n",
       "50%      0.000000    0.000000    1.000000  \n",
       "75%      0.000000    0.000000    1.000000  \n",
       "max      1.000000    1.000000    1.000000  \n",
       "\n",
       "[8 rows x 1531 columns]"
      ]
     },
     "execution_count": 49,
     "metadata": {},
     "output_type": "execute_result"
    }
   ],
   "source": [
    "X.describe()"
   ]
  },
  {
   "cell_type": "code",
   "execution_count": 50,
   "id": "759b2a57",
   "metadata": {},
   "outputs": [],
   "source": [
    "from sklearn.model_selection import train_test_split\n",
    "X_train,X_test,Y_train,Y_test=train_test_split(X,Y,random_state=42,test_size=0.3)"
   ]
  },
  {
   "cell_type": "markdown",
   "id": "1ccd139f",
   "metadata": {},
   "source": [
    "# 3)NAIVE BAYES CLASSIFIER"
   ]
  },
  {
   "cell_type": "code",
   "execution_count": 66,
   "id": "467ba860",
   "metadata": {},
   "outputs": [
    {
     "name": "stdout",
     "output_type": "stream",
     "text": [
      "              precision    recall  f1-score   support\n",
      "\n",
      "           0       0.67      0.14      0.23       147\n",
      "           1       0.36      0.88      0.52        83\n",
      "\n",
      "    accuracy                           0.40       230\n",
      "   macro avg       0.52      0.51      0.37       230\n",
      "weighted avg       0.56      0.40      0.33       230\n",
      "\n",
      "[[ 20 127]\n",
      " [ 10  73]]\n"
     ]
    }
   ],
   "source": [
    "from sklearn.naive_bayes import GaussianNB\n",
    "from sklearn.metrics import classification_report\n",
    "from sklearn.metrics import confusion_matrix\n",
    "\n",
    "classifier = GaussianNB()\n",
    "classifier.fit(X_train, Y_train)\n",
    "\n",
    "Y_pred = classifier.predict(X_test)\n",
    "print(classification_report(Y_test, Y_pred),sep='\\n')\n",
    "print(confusion_matrix(Y_test, Y_pred),sep='\\n')"
   ]
  },
  {
   "cell_type": "code",
   "execution_count": 67,
   "id": "86f53fc8",
   "metadata": {},
   "outputs": [
    {
     "name": "stdout",
     "output_type": "stream",
     "text": [
      "accuracy is 0.4043478260869565\n"
     ]
    }
   ],
   "source": [
    "# Accuracy score\n",
    "from sklearn.metrics import accuracy_score\n",
    "print('accuracy is',accuracy_score(Y_pred,Y_test))"
   ]
  },
  {
   "cell_type": "markdown",
   "id": "cd3cb762",
   "metadata": {},
   "source": [
    "# 4)Hyper tuning"
   ]
  },
  {
   "cell_type": "code",
   "execution_count": 62,
   "id": "1db11d38",
   "metadata": {},
   "outputs": [],
   "source": [
    "# fitting Bernoulli Naive Bayes to training set\n",
    "from sklearn.naive_bayes import BernoulliNB\n",
    "classifier = BernoulliNB()\n",
    "classifier.fit(X_train,Y_train)\n",
    "\n",
    "Y_pred = classifier.predict(X_test)"
   ]
  },
  {
   "cell_type": "code",
   "execution_count": 63,
   "id": "3f252ba6",
   "metadata": {},
   "outputs": [
    {
     "data": {
      "text/plain": [
       "0.7782608695652173"
      ]
     },
     "execution_count": 63,
     "metadata": {},
     "output_type": "execute_result"
    }
   ],
   "source": [
    "accuracy_score(Y_test,Y_pred)"
   ]
  },
  {
   "cell_type": "markdown",
   "id": "ba451a0c",
   "metadata": {},
   "source": [
    "Performance improve after Hyper parameter tuning.So, hyper-parameter tuning may be considered as a valid method to improve Naive Bayes classifier accuracy."
   ]
  },
  {
   "cell_type": "code",
   "execution_count": null,
   "id": "1bc16e94",
   "metadata": {},
   "outputs": [],
   "source": []
  }
 ],
 "metadata": {
  "kernelspec": {
   "display_name": "Python 3 (ipykernel)",
   "language": "python",
   "name": "python3"
  },
  "language_info": {
   "codemirror_mode": {
    "name": "ipython",
    "version": 3
   },
   "file_extension": ".py",
   "mimetype": "text/x-python",
   "name": "python",
   "nbconvert_exporter": "python",
   "pygments_lexer": "ipython3",
   "version": "3.9.7"
  }
 },
 "nbformat": 4,
 "nbformat_minor": 5
}
